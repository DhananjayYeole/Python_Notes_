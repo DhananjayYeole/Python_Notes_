{
 "cells": [
  {
   "cell_type": "markdown",
   "id": "5564913d",
   "metadata": {},
   "source": [
    "# Comments\n",
    "- 1. Comments are specified by >>> #\n",
    "- 2. Control + / >> To Comment Multiple Lines\n",
    "- 3. Tripple Quotes"
   ]
  },
  {
   "cell_type": "code",
   "execution_count": null,
   "id": "2d013fb5",
   "metadata": {},
   "outputs": [],
   "source": [
    "# print(\"Hello World!\")\n",
    "print(\"Hello World!\") # This is my first code line\n",
    "#print(\"Learning Python 1\")\n",
    "print(\"Learning Python 2\")\n",
    "#print(\"Learning Python 3\")\n",
    "print(\"Learning Python 4\")\n",
    "print(\"Learning Python 5\")\n",
    "print(\"Learning Python 6\")"
   ]
  },
  {
   "cell_type": "code",
   "execution_count": null,
   "id": "7e6d1077",
   "metadata": {},
   "outputs": [],
   "source": [
    "# print(\"Hello World!\")\n",
    "print(\"Hello World!\") # This is my first code line\n",
    "#print(\"Learning Python 1\")\n",
    "print(\"Learning Python 2\")\n",
    "# print(\"Learning Python 3\")   Used Control+/\n",
    "# print(\"Learning Python 4\")\n",
    "# print(\"Learning Python 5\")\n",
    "# print(\"Learning Python 6\")"
   ]
  },
  {
   "cell_type": "code",
   "execution_count": null,
   "id": "28c9ac33",
   "metadata": {},
   "outputs": [],
   "source": [
    "print(\"Hello World!\")\n",
    "print(\"Hello World!\") \n",
    "print(\"Learning Python 1\")\n",
    "# print(\"Learning Python 2\")\n",
    "# print(\"Learning Python 3\")\n",
    "# print(\"Learning Python 4\")\n",
    "# print(\"Learning Python 5\")\n",
    "# print(\"Learning Python 6\")"
   ]
  },
  {
   "cell_type": "code",
   "execution_count": 1,
   "id": "9bc92521",
   "metadata": {},
   "outputs": [
    {
     "name": "stdout",
     "output_type": "stream",
     "text": [
      "This is about Python Language\n"
     ]
    }
   ],
   "source": [
    "\"\"\"Python is a high-level, interpreted, general-purpose programming language. Its design philosophy \n",
    "emphasizes code readability with the use of significant indentation.Python is dynamically-typed and \n",
    "garbage-collected. It supports multiple programming paradigms, including structured (particularly \n",
    "procedural), object-oriented and functional programming. It is often described as a \"batteries \n",
    "included\" language due to its comprehensive standard library.\"\"\"\n",
    "print(\"This is about Python Language\")"
   ]
  },
  {
   "cell_type": "code",
   "execution_count": 4,
   "id": "6218c135",
   "metadata": {},
   "outputs": [
    {
     "name": "stdout",
     "output_type": "stream",
     "text": [
      "This is about Python Language\n"
     ]
    }
   ],
   "source": [
    "# Python is a high-level, interpreted, general-purpose programming language. Its design philosophy \n",
    "# emphasizes code readability with the use of significant indentation.Python is dynamically-typed and \n",
    "# garbage-collected. It supports multiple programming paradigms, including structured (particularly \n",
    "# procedural), object-oriented and functional programming. It is often described as a \"batteries \n",
    "# included\" language due to its comprehensive standard library.\n",
    "print(\"This is about Python Language\")"
   ]
  },
  {
   "cell_type": "markdown",
   "id": "748832d7",
   "metadata": {},
   "source": [
    "# Indentation\n",
    "- Space at the start of the code line"
   ]
  },
  {
   "cell_type": "code",
   "execution_count": 5,
   "id": "1d4cd823",
   "metadata": {},
   "outputs": [
    {
     "name": "stdout",
     "output_type": "stream",
     "text": [
      "Hello World!\n"
     ]
    }
   ],
   "source": [
    "print(\"Hello World!\")\n"
   ]
  },
  {
   "cell_type": "code",
   "execution_count": 6,
   "id": "321cb5bf",
   "metadata": {},
   "outputs": [
    {
     "name": "stdout",
     "output_type": "stream",
     "text": [
      "Hello World!\n",
      "Hello World!\n"
     ]
    }
   ],
   "source": [
    "print(\"Hello World!\")\n",
    "print(\"Hello World!\")\n"
   ]
  },
  {
   "cell_type": "code",
   "execution_count": 9,
   "id": "02087a1f",
   "metadata": {},
   "outputs": [
    {
     "ename": "IndentationError",
     "evalue": "unexpected indent (307742348.py, line 4)",
     "output_type": "error",
     "traceback": [
      "\u001b[1;36m  Input \u001b[1;32mIn [9]\u001b[1;36m\u001b[0m\n\u001b[1;33m    print(\"Hello World!\") # Adding one Space\u001b[0m\n\u001b[1;37m    ^\u001b[0m\n\u001b[1;31mIndentationError\u001b[0m\u001b[1;31m:\u001b[0m unexpected indent\n"
     ]
    }
   ],
   "source": [
    "print(\"Hello World!\")\n",
    "print(\"Hello World!\")\n",
    "print(\"Hello World!\")\n",
    " print(\"Hello World!\") # Adding one Space\n"
   ]
  },
  {
   "cell_type": "code",
   "execution_count": 31,
   "id": "1f90ccd9",
   "metadata": {},
   "outputs": [
    {
     "name": "stdout",
     "output_type": "stream",
     "text": [
      "Hello World!\n",
      "Hello World!\n",
      "Hello World!\n",
      "Hello World!\n"
     ]
    }
   ],
   "source": [
    " print(\"Hello World!\") # Adding one Space\n",
    "print(\"Hello World!\") # Adding one Space\n",
    " print(\"Hello World!\") # Adding one Space\n",
    " print(\"Hello World!\") # Adding one Space"
   ]
  },
  {
   "cell_type": "code",
   "execution_count": 11,
   "id": "fe863a13",
   "metadata": {},
   "outputs": [
    {
     "name": "stdout",
     "output_type": "stream",
     "text": [
      "Hello World!\n",
      "Hello World!\n",
      "Hello World!\n",
      "Hello World!\n"
     ]
    }
   ],
   "source": [
    "  print(\"Hello World!\") # Adding one more Space\n",
    "  print(\"Hello World!\") # Adding one more Space\n",
    "  print(\"Hello World!\") # Adding one more Space\n",
    "  print(\"Hello World!\") # Adding one more Space"
   ]
  },
  {
   "cell_type": "code",
   "execution_count": 15,
   "id": "ccf435f4",
   "metadata": {},
   "outputs": [
    {
     "name": "stdout",
     "output_type": "stream",
     "text": [
      "Good to go for Voting\n"
     ]
    }
   ],
   "source": [
    "Age = 56\n",
    "if Age > 18:\n",
    "    print('Good to go for Voting') # 4 Spaces or 1 Tab"
   ]
  },
  {
   "cell_type": "code",
   "execution_count": 16,
   "id": "0755443b",
   "metadata": {},
   "outputs": [
    {
     "name": "stdout",
     "output_type": "stream",
     "text": [
      "Good to go for Voting\n",
      "Going for Vote\n"
     ]
    }
   ],
   "source": [
    "Age = 56\n",
    "if Age > 18:\n",
    "    print('Good to go for Voting')\n",
    "    print(\"Going for Vote\")"
   ]
  },
  {
   "cell_type": "code",
   "execution_count": 20,
   "id": "3ba025e3",
   "metadata": {},
   "outputs": [
    {
     "ename": "IndentationError",
     "evalue": "unindent does not match any outer indentation level (<tokenize>, line 4)",
     "output_type": "error",
     "traceback": [
      "\u001b[1;36m  File \u001b[1;32m<tokenize>:4\u001b[1;36m\u001b[0m\n\u001b[1;33m    print(\"Going for Vote\") # 3 spaces\u001b[0m\n\u001b[1;37m    ^\u001b[0m\n\u001b[1;31mIndentationError\u001b[0m\u001b[1;31m:\u001b[0m unindent does not match any outer indentation level\n"
     ]
    }
   ],
   "source": [
    "Age = 56\n",
    "if Age > 18:\n",
    "    print('Good to go for Voting') # 4 spaces\n",
    "   print(\"Going for Vote\") # 3 spaces"
   ]
  },
  {
   "cell_type": "code",
   "execution_count": 21,
   "id": "b4546387",
   "metadata": {},
   "outputs": [
    {
     "name": "stdout",
     "output_type": "stream",
     "text": [
      "Good to go for Voting\n",
      "Going for Vote\n"
     ]
    }
   ],
   "source": [
    "Age = 56\n",
    "if Age > 18:\n",
    "   print('Good to go for Voting') # 3 spaces\n",
    "   print(\"Going for Vote\") # 3 spaces"
   ]
  },
  {
   "cell_type": "code",
   "execution_count": 22,
   "id": "b84d263a",
   "metadata": {},
   "outputs": [
    {
     "name": "stdout",
     "output_type": "stream",
     "text": [
      "Good to go for Voting\n",
      "Going for Vote\n"
     ]
    }
   ],
   "source": [
    "Age = 56\n",
    "if Age > 18:\n",
    "  print('Good to go for Voting') # 2 spaces\n",
    "  print(\"Going for Vote\") # 2 spaces"
   ]
  },
  {
   "cell_type": "code",
   "execution_count": 23,
   "id": "8cc92816",
   "metadata": {},
   "outputs": [
    {
     "name": "stdout",
     "output_type": "stream",
     "text": [
      "Good to go for Voting\n",
      "Going for Vote\n",
      "Testing Age for Voting\n"
     ]
    }
   ],
   "source": [
    "Age = 56\n",
    "if Age > 18:\n",
    "  print('Good to go for Voting') # 2 spaces\n",
    "  print(\"Going for Vote\") # 2 spaces\n",
    "    \n",
    "print(\"Testing Age for Voting\")"
   ]
  },
  {
   "cell_type": "code",
   "execution_count": 27,
   "id": "1639599d",
   "metadata": {},
   "outputs": [
    {
     "name": "stdout",
     "output_type": "stream",
     "text": [
      "Can not go for voting\n"
     ]
    }
   ],
   "source": [
    "Age = 16\n",
    "if Age > 18:\n",
    "  print('Good to go for Voting') # 2 spaces\n",
    "  print(\"Going for Vote\") # 2 spaces\n",
    "else:\n",
    "    print(\"Can not go for voting\") # 4 Spaces\n",
    "    "
   ]
  },
  {
   "cell_type": "code",
   "execution_count": 28,
   "id": "6aad50d0",
   "metadata": {},
   "outputs": [
    {
     "name": "stdout",
     "output_type": "stream",
     "text": [
      "Can not go for voting\n",
      "Sorry\n"
     ]
    }
   ],
   "source": [
    "Age = 16\n",
    "if Age > 18:\n",
    "  print('Good to go for Voting') # 2 spaces\n",
    "  print(\"Going for Vote\") # 2 spaces\n",
    "else:\n",
    "    print(\"Can not go for voting\") # 4 Spaces\n",
    "    print(\"Sorry\")"
   ]
  },
  {
   "cell_type": "code",
   "execution_count": 38,
   "id": "e827bc6e",
   "metadata": {},
   "outputs": [
    {
     "name": "stdout",
     "output_type": "stream",
     "text": [
      "Can not go for voting\n",
      "Sorry\n",
      "If else block tested\n"
     ]
    }
   ],
   "source": [
    "Age = 16\n",
    "if Age > 18:\n",
    "  print('Good to go for Voting') # 2 spaces\n",
    "  print(\"Going for Vote\") # 2 spaces\n",
    "else:\n",
    "    print(\"Can not go for voting\") # 4 Spaces\n",
    "    print(\"Sorry\")\n",
    "        \n",
    "print(\"If else block tested\")"
   ]
  },
  {
   "cell_type": "code",
   "execution_count": 42,
   "id": "332231dc",
   "metadata": {},
   "outputs": [
    {
     "data": {
      "text/plain": [
       "2077490806832"
      ]
     },
     "execution_count": 42,
     "metadata": {},
     "output_type": "execute_result"
    }
   ],
   "source": [
    "a = -5\n",
    "id(a)"
   ]
  },
  {
   "cell_type": "code",
   "execution_count": 43,
   "id": "5e70a64b",
   "metadata": {},
   "outputs": [
    {
     "data": {
      "text/plain": [
       "2077490806832"
      ]
     },
     "execution_count": 43,
     "metadata": {},
     "output_type": "execute_result"
    }
   ],
   "source": [
    "a = -5\n",
    "id(a)"
   ]
  },
  {
   "cell_type": "code",
   "execution_count": 44,
   "id": "86d7d252",
   "metadata": {},
   "outputs": [
    {
     "data": {
      "text/plain": [
       "2077490806832"
      ]
     },
     "execution_count": 44,
     "metadata": {},
     "output_type": "execute_result"
    }
   ],
   "source": [
    "a = -5\n",
    "id(a)"
   ]
  },
  {
   "cell_type": "code",
   "execution_count": 45,
   "id": "f1974642",
   "metadata": {},
   "outputs": [
    {
     "data": {
      "text/plain": [
       "2077490807152"
      ]
     },
     "execution_count": 45,
     "metadata": {},
     "output_type": "execute_result"
    }
   ],
   "source": [
    "a = 5\n",
    "id(a)"
   ]
  },
  {
   "cell_type": "code",
   "execution_count": 46,
   "id": "d70c2014",
   "metadata": {},
   "outputs": [
    {
     "data": {
      "text/plain": [
       "2077490807152"
      ]
     },
     "execution_count": 46,
     "metadata": {},
     "output_type": "execute_result"
    }
   ],
   "source": [
    "a = 5\n",
    "id(a)"
   ]
  },
  {
   "cell_type": "code",
   "execution_count": 51,
   "id": "b19f1c9a",
   "metadata": {},
   "outputs": [
    {
     "data": {
      "text/plain": [
       "2077569187984"
      ]
     },
     "execution_count": 51,
     "metadata": {},
     "output_type": "execute_result"
    }
   ],
   "source": [
    "a = -15\n",
    "id(a)"
   ]
  },
  {
   "cell_type": "code",
   "execution_count": 52,
   "id": "8e0d9cbd",
   "metadata": {},
   "outputs": [
    {
     "data": {
      "text/plain": [
       "2077569188496"
      ]
     },
     "execution_count": 52,
     "metadata": {},
     "output_type": "execute_result"
    }
   ],
   "source": [
    "a = -15\n",
    "id(a)"
   ]
  },
  {
   "cell_type": "code",
   "execution_count": 53,
   "id": "e28d4222",
   "metadata": {},
   "outputs": [
    {
     "data": {
      "text/plain": [
       "2077569188528"
      ]
     },
     "execution_count": 53,
     "metadata": {},
     "output_type": "execute_result"
    }
   ],
   "source": [
    "a = -15\n",
    "id(a)"
   ]
  },
  {
   "cell_type": "code",
   "execution_count": 54,
   "id": "c173018e",
   "metadata": {},
   "outputs": [
    {
     "data": {
      "text/plain": [
       "2077490807440"
      ]
     },
     "execution_count": 54,
     "metadata": {},
     "output_type": "execute_result"
    }
   ],
   "source": [
    "a = 14\n",
    "id(a)"
   ]
  },
  {
   "cell_type": "code",
   "execution_count": 55,
   "id": "2a831720",
   "metadata": {},
   "outputs": [
    {
     "data": {
      "text/plain": [
       "2077490807472"
      ]
     },
     "execution_count": 55,
     "metadata": {},
     "output_type": "execute_result"
    }
   ],
   "source": [
    "a = 15\n",
    "id(a)"
   ]
  },
  {
   "cell_type": "code",
   "execution_count": 67,
   "id": "8d791ee0",
   "metadata": {},
   "outputs": [
    {
     "ename": "IndentationError",
     "evalue": "unexpected indent (926195882.py, line 5)",
     "output_type": "error",
     "traceback": [
      "\u001b[1;36m  Input \u001b[1;32mIn [67]\u001b[1;36m\u001b[0m\n\u001b[1;33m    print(\"Hi\")\u001b[0m\n\u001b[1;37m    ^\u001b[0m\n\u001b[1;31mIndentationError\u001b[0m\u001b[1;31m:\u001b[0m unexpected indent\n"
     ]
    }
   ],
   "source": [
    "print(\"Hi\")\n",
    "print(\"Hi\")\n",
    "    \n",
    "    \n",
    "print(\"Hi\")\n",
    "print(\"Hi\")"
   ]
  },
  {
   "cell_type": "code",
   "execution_count": 69,
   "id": "b3a346c4",
   "metadata": {},
   "outputs": [
    {
     "name": "stdout",
     "output_type": "stream",
     "text": [
      "This is a digit\n",
      "And the number is 3\n"
     ]
    }
   ],
   "source": [
    "if \"3\".isdigit():\n",
    "    \n",
    "    if int(\"3\")==3:\n",
    "        \n",
    "        print(\"This is a digit\")\n",
    "        print(\"And the number is 3\")"
   ]
  },
  {
   "cell_type": "code",
   "execution_count": 73,
   "id": "1ff3198f",
   "metadata": {},
   "outputs": [
    {
     "name": "stdout",
     "output_type": "stream",
     "text": [
      "Hi\n"
     ]
    }
   ],
   "source": [
    "for i in range(5):\n",
    "    pass\n",
    "print(\"Hi\")"
   ]
  },
  {
   "cell_type": "code",
   "execution_count": 81,
   "id": "f9f0694d",
   "metadata": {},
   "outputs": [
    {
     "name": "stdout",
     "output_type": "stream",
     "text": [
      "Hi\n"
     ]
    }
   ],
   "source": [
    "                     print(\"Hi\")\n",
    "# print(\"Hi\")   \n",
    "# print(\"Hi\")\n",
    "# # if True:\n",
    "# print(\"Hi\")"
   ]
  },
  {
   "cell_type": "code",
   "execution_count": null,
   "id": "aa1990f1",
   "metadata": {},
   "outputs": [],
   "source": []
  }
 ],
 "metadata": {
  "kernelspec": {
   "display_name": "Python 3 (ipykernel)",
   "language": "python",
   "name": "python3"
  },
  "language_info": {
   "codemirror_mode": {
    "name": "ipython",
    "version": 3
   },
   "file_extension": ".py",
   "mimetype": "text/x-python",
   "name": "python",
   "nbconvert_exporter": "python",
   "pygments_lexer": "ipython3",
   "version": "3.10.5"
  }
 },
 "nbformat": 4,
 "nbformat_minor": 5
}
